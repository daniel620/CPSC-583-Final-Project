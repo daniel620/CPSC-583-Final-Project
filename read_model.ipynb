{
 "cells": [
  {
   "cell_type": "code",
   "execution_count": 8,
   "metadata": {},
   "outputs": [
    {
     "name": "stdout",
     "output_type": "stream",
     "text": [
      "Data path: data/ZINC-SPD\n"
     ]
    },
    {
     "data": {
      "text/plain": [
       "Data(edge_index=[2, 97446], spd=[10432900, 1], rwpe=[3230, 20], num_nodes=3230)"
      ]
     },
     "execution_count": 8,
     "metadata": {},
     "output_type": "execute_result"
    }
   ],
   "source": [
    "from torch_geometric.datasets import ZINC, PPI\n",
    "from torch_geometric.loader import DataLoader\n",
    "\n",
    "import torch_geometric.transforms as T\n",
    "from SPD_encoder import AddShortestPathMatrix, SPDEncoder, RemoveFeatures\n",
    "import os.path as osp\n",
    "\n",
    "from torch_geometric.nn import GINEConv, GPSConv\n",
    "import numpy as np\n",
    "import torch\n",
    "import networkx as nx\n",
    "import matplotlib.pyplot as plt\n",
    "\n",
    "path = osp.join('data', 'ZINC-SPD')  \n",
    "print(\"Data path:\", path)\n",
    "\n",
    "# Define transforms\n",
    "pre_transform = T.Compose([AddShortestPathMatrix(), T.AddRandomWalkPE(20, attr_name='rwpe')])\n",
    "transform = T.Compose([RemoveFeatures()])\n",
    "# Load datasets\n",
    "# train_dataset = ZINC(path, subset=True, split='train', pre_transform=pre_transform, transform=transform)[:5]\n",
    "PPI_train_dataset = PPI(osp.join('data', 'PPI-SPD')  , split='train', pre_transform=pre_transform, transform=transform)\n",
    "PPI_val_dataset = PPI(osp.join('data', 'PPI-SPD')  , split='val', pre_transform=pre_transform, transform=transform)\n",
    "\n",
    "train_loader = DataLoader(PPI_train_dataset, batch_size=20, shuffle=False)\n",
    "val_loader = DataLoader(PPI_val_dataset, batch_size=1, shuffle=False)\n",
    "\n",
    "# data = train_dataset[0]\n",
    "# data = PPI_val_dataset[0]\n",
    "data = PPI_val_dataset[0]\n",
    "batch = data\n",
    "\n",
    "model = SPDEncoder()\n",
    "# model.load_state_dict(torch.load('model_weights_20231103_0112.pth'))\n",
    "# model.load_state_dict(torch.load('model_weights_20231110_0204.pth'))\n",
    "model.load_state_dict(torch.load('model_weights_20231114_2107.pth'))\n",
    "\n",
    "model.eval()\n",
    "data"
   ]
  },
  {
   "cell_type": "code",
   "execution_count": 15,
   "metadata": {},
   "outputs": [
    {
     "name": "stdout",
     "output_type": "stream",
     "text": [
      "Data(edge_index=[2, 97446], spd=[10432900, 1], rwpe=[3230, 20], num_nodes=3230) True\n",
      "tensor(0.) tensor(inf)\n",
      "Data(edge_index=[2, 101474], spd=[10784656, 1], rwpe=[3284, 20], num_nodes=3284) False\n",
      "tensor(0.) tensor(1.)\n"
     ]
    }
   ],
   "source": [
    "for g in PPI_val_dataset:\n",
    "    print(g, g.has_isolated_nodes())\n",
    "    print(g.spd.min(), g.spd.max())"
   ]
  },
  {
   "cell_type": "code",
   "execution_count": null,
   "metadata": {},
   "outputs": [],
   "source": [
    "i = 0\n",
    "j = 3\n",
    "print(embeddings[i])\n",
    "print(embeddings[j])\n",
    "# model.node_pairs_similarity(embeddings)\n",
    "# model.node_pairs_similarity(embeddings[i], embeddings[j], selected_indices=torch.tensor([[2], [3]]))\n",
    "selected_indices=torch.tensor([[2], [3]])\n",
    "z1 = embeddings[selected_indices[0]]  # Shape (num_pairs, embedding_dim)\n",
    "z2 = embeddings[selected_indices[1]]  # Shape (num_pairs, embedding_dim)\n",
    "\n",
    "# Calculate pairwise distances only for selected pairs\n",
    "distance_vector = torch.norm(z1 - z2, dim=-1, p=2)  # Shape (num_pairs,)\n",
    "\n",
    "# Apply the radial basis function (RBF) kernel to the distance vector\n",
    "gamma = 0.015625  # This value can be adjusted as needed\n",
    "rbf_kernel_vector = torch.exp(-gamma * distance_vector.pow(2))"
   ]
  },
  {
   "cell_type": "code",
   "execution_count": 26,
   "metadata": {},
   "outputs": [
    {
     "name": "stdout",
     "output_type": "stream",
     "text": [
      "83.5987\t6400\t0.0131\n",
      "136.6822\t6400\t0.0214\n",
      "0.0172\n"
     ]
    }
   ],
   "source": [
    "# loss\n",
    "model.eval()\n",
    "total_loss = 0\n",
    "total_count_pairs = 0\n",
    "for batch in val_loader:\n",
    "    embeddings = model(batch.rwpe, batch.edge_index, batch.batch)\n",
    "    loss, count_pairs = model.batch_loss(embeddings, batch.spd, batch.ptr, batch.batch_size, max_pairs_per_graph=6400)\n",
    "    print(round(loss.item(),4), count_pairs, round(loss.item()/count_pairs,4),sep='\\t')\n",
    "    total_loss += loss.item()\n",
    "    total_count_pairs += count_pairs\n",
    "print(round(total_loss/total_count_pairs,4))"
   ]
  },
  {
   "cell_type": "code",
   "execution_count": 13,
   "metadata": {},
   "outputs": [],
   "source": [
    "import scipy.sparse.csgraph as csgraph\n",
    "\n",
    "edge_index = data.edge_index.cpu().numpy()\n",
    "num_nodes = data.num_nodes\n",
    "# adj\n",
    "adjacency_matrix = np.zeros((num_nodes, num_nodes)) # type: ignore\n",
    "adjacency_matrix[edge_index[0], edge_index[1]] = 1\n",
    "# spd\n",
    "shortest_path_matrix = csgraph.floyd_warshall(adjacency_matrix)\n",
    "# diameter\n",
    "diameter = np.max(shortest_path_matrix[shortest_path_matrix != np.inf])\n",
    "assert diameter > 0\n",
    "# normalize\n",
    "shortest_path_matrix = shortest_path_matrix / diameter\n",
    "\n",
    "# data.spd = torch.tensor(shortest_path_matrix.reshape(-1, 1), dtype=torch.float).to(data.edge_index.device)"
   ]
  },
  {
   "cell_type": "code",
   "execution_count": 15,
   "metadata": {},
   "outputs": [
    {
     "name": "stdout",
     "output_type": "stream",
     "text": [
      "0\t1.0\t1.0\t0.0\t0.0\n",
      "1\t0.755953\t0.238542\t0.4285714328289032\t0.267714\n",
      "2\t0.995758\t0.394212\t0.2857142984867096\t0.361857\n",
      "3\t0.941509\t0.394212\t0.2857142984867096\t0.299534\n",
      "4\t0.55398\t0.238542\t0.4285714328289032\t0.099501\n",
      "5\t0.963174\t0.238542\t0.4285714328289032\t0.525091\n",
      "6\t0.970129\t0.394212\t0.2857142984867096\t0.331679\n",
      "7\t0.951565\t0.238542\t0.4285714328289032\t0.508401\n",
      "8\t0.907055\t0.238542\t0.4285714328289032\t0.44691\n",
      "9\t0.944574\t0.238542\t0.4285714328289032\t0.498481\n",
      "10\t0.771298\t0.394212\t0.2857142984867096\t0.142193\n",
      "11\t0.799397\t0.394212\t0.2857142984867096\t0.164174\n",
      "12\t0.893667\t0.238542\t0.4285714328289032\t0.429188\n",
      "13\t0.99565\t0.238542\t0.4285714328289032\t0.573212\n",
      "14\t0.973951\t0.238542\t0.4285714328289032\t0.540826\n",
      "15\t0.322197\t0.394212\t0.2857142984867096\t0.005186\n",
      "16\t0.406134\t0.238542\t0.4285714328289032\t0.028087\n",
      "17\t0.9784\t0.238542\t0.4285714328289032\t0.54739\n",
      "18\t0.984348\t0.394212\t0.2857142984867096\t0.34826\n",
      "19\t0.406134\t0.238542\t0.4285714328289032\t0.028087\n",
      "20\t0.995768\t0.394212\t0.2857142984867096\t0.361869\n",
      "21\t0.432259\t0.238542\t0.4285714328289032\t0.037526\n",
      "22\t0.999966\t0.238542\t0.4285714328289032\t0.579765\n",
      "23\t0.991399\t0.238542\t0.4285714328289032\t0.566793\n",
      "24\t0.986414\t0.238542\t0.4285714328289032\t0.559312\n",
      "25\t0.941069\t0.238542\t0.4285714328289032\t0.493544\n",
      "26\t0.922973\t0.238542\t0.4285714328289032\t0.468446\n",
      "27\t0.957882\t0.238542\t0.4285714328289032\t0.51745\n",
      "28\t0.959897\t0.394212\t0.2857142984867096\t0.319999\n",
      "29\t0.916239\t0.238542\t0.4285714328289032\t0.459273\n",
      "30\t0.693786\t0.238542\t0.4285714328289032\t0.207247\n",
      "31\t0.718837\t0.238542\t0.4285714328289032\t0.230683\n",
      "32\t0.782117\t0.394212\t0.2857142984867096\t0.15047\n",
      "33\t0.952949\t0.394212\t0.2857142984867096\t0.312186\n",
      "34\t0.352175\t0.07107\t0.7142857313156128\t0.079019\n",
      "35\t0.688635\t0.238542\t0.4285714328289032\t0.202584\n",
      "36\t0.381542\t0.137133\t0.5714285969734192\t0.059736\n"
     ]
    },
    {
     "ename": "KeyboardInterrupt",
     "evalue": "",
     "output_type": "error",
     "traceback": [
      "\u001b[0;31m---------------------------------------------------------------------------\u001b[0m",
      "\u001b[0;31mKeyboardInterrupt\u001b[0m                         Traceback (most recent call last)",
      "\u001b[1;32m/home/hz477/project/GraphTransformer/read_model.ipynb Cell 6\u001b[0m line \u001b[0;36m1\n\u001b[1;32m     <a href='vscode-notebook-cell://ssh-remote%2Bnode/home/hz477/project/GraphTransformer/read_model.ipynb#W3sdnNjb2RlLXJlbW90ZQ%3D%3D?line=13'>14</a>\u001b[0m loss \u001b[39m=\u001b[39m \u001b[39m0.0\u001b[39m\n\u001b[1;32m     <a href='vscode-notebook-cell://ssh-remote%2Bnode/home/hz477/project/GraphTransformer/read_model.ipynb#W3sdnNjb2RlLXJlbW90ZQ%3D%3D?line=14'>15</a>\u001b[0m \u001b[39mfor\u001b[39;00m i \u001b[39min\u001b[39;00m \u001b[39mrange\u001b[39m(\u001b[39m0\u001b[39m, data\u001b[39m.\u001b[39mnum_nodes, \u001b[39m1\u001b[39m):\n\u001b[1;32m     <a href='vscode-notebook-cell://ssh-remote%2Bnode/home/hz477/project/GraphTransformer/read_model.ipynb#W3sdnNjb2RlLXJlbW90ZQ%3D%3D?line=15'>16</a>\u001b[0m     \u001b[39m# print(i, round(model.node_pairs_similarity(embeddings)[0][i].item(), 2), data.spd.reshape(data.num_nodes, data.num_nodes)[0][i].item(), sep='\\t')\u001b[39;00m\n\u001b[0;32m---> <a href='vscode-notebook-cell://ssh-remote%2Bnode/home/hz477/project/GraphTransformer/read_model.ipynb#W3sdnNjb2RlLXJlbW90ZQ%3D%3D?line=16'>17</a>\u001b[0m     sim_pred \u001b[39m=\u001b[39m model\u001b[39m.\u001b[39;49mnode_pairs_similarity(embeddings)[\u001b[39m0\u001b[39m][i]\u001b[39m.\u001b[39mitem()\n\u001b[1;32m     <a href='vscode-notebook-cell://ssh-remote%2Bnode/home/hz477/project/GraphTransformer/read_model.ipynb#W3sdnNjb2RlLXJlbW90ZQ%3D%3D?line=17'>18</a>\u001b[0m     sim_true \u001b[39m=\u001b[39m map_score(data\u001b[39m.\u001b[39mspd\u001b[39m.\u001b[39mreshape(data\u001b[39m.\u001b[39mnum_nodes, data\u001b[39m.\u001b[39mnum_nodes)[\u001b[39m0\u001b[39m][i]\u001b[39m.\u001b[39mitem())\n\u001b[1;32m     <a href='vscode-notebook-cell://ssh-remote%2Bnode/home/hz477/project/GraphTransformer/read_model.ipynb#W3sdnNjb2RlLXJlbW90ZQ%3D%3D?line=18'>19</a>\u001b[0m     \u001b[39m# if sim_true < 0.3:\u001b[39;00m\n\u001b[1;32m     <a href='vscode-notebook-cell://ssh-remote%2Bnode/home/hz477/project/GraphTransformer/read_model.ipynb#W3sdnNjb2RlLXJlbW90ZQ%3D%3D?line=19'>20</a>\u001b[0m     \u001b[39m#     continue\u001b[39;00m\n",
      "File \u001b[0;32m/gpfs/gibbs/project/ying_rex/hz477/GraphTransformer/SPD_encoder/SPD_encoder.py:135\u001b[0m, in \u001b[0;36mSPDEncoder.node_pairs_similarity\u001b[0;34m(self, embeddings, device, selected_indices, sim_mlp)\u001b[0m\n\u001b[1;32m    133\u001b[0m z1 \u001b[39m=\u001b[39m embeddings\u001b[39m.\u001b[39munsqueeze(\u001b[39m1\u001b[39m)  \u001b[39m# Shape (num_nodes, 1, embedding_dim)\u001b[39;00m\n\u001b[1;32m    134\u001b[0m z2 \u001b[39m=\u001b[39m embeddings\u001b[39m.\u001b[39munsqueeze(\u001b[39m0\u001b[39m)  \u001b[39m# Shape (1, num_nodes, embedding_dim)\u001b[39;00m\n\u001b[0;32m--> 135\u001b[0m distance_matrix \u001b[39m=\u001b[39m torch\u001b[39m.\u001b[39;49mnorm(z1 \u001b[39m-\u001b[39;49m z2, dim\u001b[39m=\u001b[39;49m\u001b[39m-\u001b[39;49m\u001b[39m1\u001b[39;49m, p\u001b[39m=\u001b[39;49m\u001b[39m2\u001b[39;49m)  \u001b[39m# Shape (num_nodes, num_nodes)\u001b[39;00m\n\u001b[1;32m    137\u001b[0m \u001b[39m# Apply the radial basis function (RBF) kernel to the distance matrix\u001b[39;00m\n\u001b[1;32m    138\u001b[0m gamma \u001b[39m=\u001b[39m \u001b[39m0.015625\u001b[39m  \u001b[39m# You can adjust this value as needed\u001b[39;00m\n",
      "File \u001b[0;32m~/.conda/envs/gt/lib/python3.10/site-packages/torch/functional.py:1517\u001b[0m, in \u001b[0;36mnorm\u001b[0;34m(input, p, dim, keepdim, out, dtype)\u001b[0m\n\u001b[1;32m   1515\u001b[0m _p \u001b[39m=\u001b[39m \u001b[39m2.0\u001b[39m \u001b[39mif\u001b[39;00m p \u001b[39mis\u001b[39;00m \u001b[39mNone\u001b[39;00m \u001b[39melse\u001b[39;00m p\n\u001b[1;32m   1516\u001b[0m \u001b[39mif\u001b[39;00m out \u001b[39mis\u001b[39;00m \u001b[39mNone\u001b[39;00m:\n\u001b[0;32m-> 1517\u001b[0m     \u001b[39mreturn\u001b[39;00m torch\u001b[39m.\u001b[39;49mlinalg\u001b[39m.\u001b[39;49mvector_norm(\u001b[39minput\u001b[39;49m, _p, _dim, keepdim, dtype\u001b[39m=\u001b[39;49mdtype)\n\u001b[1;32m   1518\u001b[0m \u001b[39melse\u001b[39;00m:\n\u001b[1;32m   1519\u001b[0m     \u001b[39mreturn\u001b[39;00m torch\u001b[39m.\u001b[39mlinalg\u001b[39m.\u001b[39mvector_norm(\u001b[39minput\u001b[39m, _p, _dim, keepdim, dtype\u001b[39m=\u001b[39mdtype, out\u001b[39m=\u001b[39mout)\n",
      "\u001b[0;31mKeyboardInterrupt\u001b[0m: "
     ]
    }
   ],
   "source": [
    "import numpy as np\n",
    " \n",
    "\n",
    "embeddings = model(data.rwpe, data.edge_index, data.batch)\n",
    "# not normalized\n",
    "# for i in range(data.num_nodes):\n",
    "#     print(i, round(1 / model.node_pairs_similarity(embeddings)[0][i].item(), 2), data.spd.reshape(data.num_nodes, data.num_nodes)[0][i].item(), sep='\\t')\n",
    "def map_score(x,lambda_=3):\n",
    "    # (torch.exp(- lambda_ * spd_matrix) - torch.exp(- lambda_)) * ( 1/(1 - torch.exp(- lambda_)))\n",
    "    # return (torch.exp(- lambda_ * x) - torch.exp(- lambda_)) * ( 1/(1 - torch.exp(- lambda_)))\n",
    "    # numpy\n",
    "    return (np.exp(- lambda_ * x) - np.exp(- lambda_)) * ( 1/(1 - np.exp(- lambda_)))\n",
    "# normalized\n",
    "loss = 0.0\n",
    "for i in range(0, data.num_nodes, 1):\n",
    "    # print(i, round(model.node_pairs_similarity(embeddings)[0][i].item(), 2), data.spd.reshape(data.num_nodes, data.num_nodes)[0][i].item(), sep='\\t')\n",
    "    sim_pred = model.node_pairs_similarity(embeddings)[0][i].item()\n",
    "    sim_true = map_score(data.spd.reshape(data.num_nodes, data.num_nodes)[0][i].item())\n",
    "    # if sim_true < 0.3:\n",
    "    #     continue\n",
    "    loss = torch.nn.functional.mse_loss(torch.tensor(sim_pred), torch.tensor(sim_true))\n",
    "    print(i, round(sim_pred, 6), round(sim_true, 6), data.spd.reshape(data.num_nodes, data.num_nodes)[0][i].item(),round(loss.item(), 6) ,sep='\\t')\n",
    "    \n",
    "    # print(loss)\n",
    "# print(1 / model.node_pairs_similarity(embeddings)[0])\n",
    "# print(data.spd.reshape(data.num_nodes, data.num_nodes)[0])"
   ]
  },
  {
   "cell_type": "code",
   "execution_count": 18,
   "metadata": {},
   "outputs": [
    {
     "data": {
      "text/plain": [
       "0.26771414292099993"
      ]
     },
     "execution_count": 18,
     "metadata": {},
     "output_type": "execute_result"
    }
   ],
   "source": [
    "(0.755953-0.238542)**2"
   ]
  },
  {
   "cell_type": "code",
   "execution_count": 46,
   "metadata": {},
   "outputs": [
    {
     "data": {
      "text/plain": [
       "[<matplotlib.lines.Line2D at 0x148a748b5e40>]"
      ]
     },
     "execution_count": 46,
     "metadata": {},
     "output_type": "execute_result"
    },
    {
     "data": {
      "image/png": "[encoded data removed]",
      "text/plain": [
       "<Figure size 640x480 with 1 Axes>"
      ]
     },
     "metadata": {},
     "output_type": "display_data"
    }
   ],
   "source": [
    "x = np.linspace(0, 1, 100)\n",
    "# map_score(x, lambda_=3)\n",
    "plt.plot(x, map_score(x, lambda_=-3))"
   ]
  },
  {
   "cell_type": "code",
   "execution_count": null,
   "metadata": {},
   "outputs": [],
   "source": [
    "import scipy.sparse.csgraph as csgraph\n",
    "\n",
    "edge_index = data.edge_index.cpu().numpy()\n",
    "num_nodes = data.num_nodes\n",
    "# adj\n",
    "adjacency_matrix = np.zeros((num_nodes, num_nodes)) # type: ignore\n",
    "adjacency_matrix[edge_index[0], edge_index[1]] = 1\n",
    "# spd\n",
    "shortest_path_matrix = csgraph.floyd_warshall(adjacency_matrix)\n",
    "# diameter\n",
    "diameter = np.max(shortest_path_matrix[shortest_path_matrix != np.inf])"
   ]
  },
  {
   "cell_type": "code",
   "execution_count": null,
   "metadata": {},
   "outputs": [],
   "source": [
    "shortest_path_matrix[:20, :20]"
   ]
  },
  {
   "cell_type": "code",
   "execution_count": null,
   "metadata": {},
   "outputs": [],
   "source": [
    "diameter"
   ]
  },
  {
   "cell_type": "code",
   "execution_count": 24,
   "metadata": {},
   "outputs": [
    {
     "name": "stdout",
     "output_type": "stream",
     "text": [
      "1767\n",
      "0.125 1.0\n"
     ]
    },
    {
     "data": {
      "image/png": "[encoded data removed]",
      "text/plain": [
       "<Figure size 640x480 with 1 Axes>"
      ]
     },
     "metadata": {},
     "output_type": "display_data"
    },
    {
     "data": {
      "image/png": "[encoded data removed]",
      "text/plain": [
       "<Figure size 640x480 with 1 Axes>"
      ]
     },
     "metadata": {},
     "output_type": "display_data"
    }
   ],
   "source": [
    "# data.spd.reshape(data.num_nodes, data.num_nodes)\n",
    "# 观察其上三角的分布\n",
    "print(data.num_nodes)\n",
    "triu_indices = torch.triu_indices(data.num_nodes, data.num_nodes, offset=1)\n",
    "spd_values= data.spd.reshape(data.num_nodes, data.num_nodes)[triu_indices[0], triu_indices[1]].numpy()\n",
    "# drop inf\n",
    "spd_values = spd_values[spd_values != np.inf]\n",
    "# range\n",
    "print(spd_values.min(), spd_values.max())\n",
    "plt.hist(spd_values , bins=20, alpha=0.6)\n",
    "# legend\n",
    "plt.show()\n",
    "# print(spd_values.shape)\n",
    "plt.plot(sorted(spd_values))\n",
    "plt.show()"
   ]
  },
  {
   "cell_type": "code",
   "execution_count": null,
   "metadata": {},
   "outputs": [],
   "source": []
  },
  {
   "cell_type": "code",
   "execution_count": null,
   "metadata": {},
   "outputs": [],
   "source": [
    "# visualize the graph\n",
    "G = nx.Graph()\n",
    "G.add_edges_from(data.edge_index.t().tolist())\n",
    "nx.draw(G, with_labels=False, node_size=0.5, alpha=0.5, width=0.05, pos=nx.spring_layout(G))\n",
    "plt.show()\n",
    "data"
   ]
  },
  {
   "cell_type": "code",
   "execution_count": null,
   "metadata": {},
   "outputs": [],
   "source": [
    "# visualize the graph\n",
    "G = nx.Graph()\n",
    "G.add_edges_from(data.edge_index.t().tolist())\n",
    "nx.draw(G, with_labels=True, pos=nx.spring_layout(G,seed=42))\n",
    "plt.show()\n"
   ]
  },
  {
   "cell_type": "code",
   "execution_count": null,
   "metadata": {},
   "outputs": [],
   "source": [
    "# visualize embeddings use TSNE\n",
    "from cgitb import text\n",
    "from sklearn.manifold import TSNE\n",
    "import numpy as np\n",
    "seed = 0\n",
    "np.random.seed(seed)\n",
    "X = embeddings.detach().numpy()\n",
    "X_embedded = TSNE(n_components=2).fit_transform(X)\n",
    "print(X_embedded.shape)\n",
    "\n",
    "plt.scatter(X_embedded[:, 0], X_embedded[:, 1], c=np.arange(data.num_nodes), cmap='tab10')\n",
    "# node id \n",
    "for i in range(X_embedded.shape[0]):\n",
    "    plt.annotate(i, (X_embedded[i, 0], X_embedded[i, 1]))\n",
    "plt.show()"
   ]
  }
 ],
 "metadata": {
  "kernelspec": {
   "display_name": "gt",
   "language": "python",
   "name": "gt"
  },
  "language_info": {
   "codemirror_mode": {
    "name": "ipython",
    "version": 3
   },
   "file_extension": ".py",
   "mimetype": "text/x-python",
   "name": "python",
   "nbconvert_exporter": "python",
   "pygments_lexer": "ipython3",
   "version": "3.10.12"
  }
 },
 "nbformat": 4,
 "nbformat_minor": 2
}
